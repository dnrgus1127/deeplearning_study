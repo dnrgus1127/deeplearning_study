{
 "cells": [
  {
   "cell_type": "code",
   "execution_count": 1,
   "id": "efaa84cf",
   "metadata": {},
   "outputs": [],
   "source": [
    "import tensorflow as tf"
   ]
  },
  {
   "cell_type": "code",
   "execution_count": 2,
   "id": "fcc64a4b",
   "metadata": {},
   "outputs": [
    {
     "name": "stdout",
     "output_type": "stream",
     "text": [
      "(60000, 28, 28) (60000,)\n",
      "(10000, 28, 28) (10000,)\n"
     ]
    }
   ],
   "source": [
    "mnist = tf.keras.datasets.mnist #손글씨 이미지 데이터 로드\n",
    "(x_train,y_train),(x_valid,y_valid) = mnist.load_data()\n",
    "\n",
    "print(x_train.shape,y_train.shape) \n",
    "print(x_valid.shape,y_valid.shape)\n"
   ]
  },
  {
   "cell_type": "code",
   "execution_count": 3,
   "id": "79a65db2",
   "metadata": {},
   "outputs": [
    {
     "data": {
      "image/png": "[encoded data removed]",
      "text/plain": [
       "<Figure size 360x360 with 1 Axes>"
      ]
     },
     "metadata": {
      "needs_background": "light"
     },
     "output_type": "display_data"
    }
   ],
   "source": [
    "import matplotlib.pylab as plt\n",
    "\n",
    "def plot_image(data, idx):\n",
    "    plt.figure(figsize=(5,5))\n",
    "    plt.imshow(data[idx], cmap = \"gray\")\n",
    "    plt.axis(\"off\")\n",
    "    plt.show()\n",
    "    \n",
    "    \n",
    "plot_image(x_train,0)"
   ]
  },
  {
   "cell_type": "code",
   "execution_count": 4,
   "id": "de33ceff",
   "metadata": {},
   "outputs": [
    {
     "name": "stdout",
     "output_type": "stream",
     "text": [
      "0 255\n"
     ]
    }
   ],
   "source": [
    "print(x_train.min(),x_train.max())"
   ]
  },
  {
   "cell_type": "code",
   "execution_count": 5,
   "id": "3ef95297",
   "metadata": {},
   "outputs": [],
   "source": [
    "x_train = x_train/255.0  # 안정적인 학습을 위해서 입력 이미지 픽셀 값을 정규화\n",
    "x_valid = x_valid/255.0"
   ]
  },
  {
   "cell_type": "code",
   "execution_count": 7,
   "id": "2582078b",
   "metadata": {},
   "outputs": [
    {
     "name": "stdout",
     "output_type": "stream",
     "text": [
      "(60000, 28, 28, 1)\n"
     ]
    }
   ],
   "source": [
    "x_train_in = x_train[..., tf.newaxis] # 흑백 이미지에 색상 채널을 하나 추가\n",
    "x_valid_in = x_valid[..., tf.newaxis]\n",
    "\n",
    "print(x_train_in.shape)"
   ]
  },
  {
   "cell_type": "code",
   "execution_count": 8,
   "id": "be45fa39",
   "metadata": {},
   "outputs": [],
   "source": [
    "## 합성곱 레이어 하나와 풀링 레이어를 하나 추가한다.\n",
    "## 합성곱은 Conv2D 레이어, 커널은(3,3), 활성화 함수는 ReLU 함수 "
   ]
  },
  {
   "cell_type": "code",
   "execution_count": 15,
   "id": "82662eab",
   "metadata": {},
   "outputs": [],
   "source": [
    "model = tf.keras.Sequential([\n",
    "    tf.keras.layers.Conv2D(32,(3,3),activation='relu', input_shape=(28,28,1), name ='conv'),\n",
    "    # Conv2D = 기본적인 합성곱 함수\n",
    "    tf.keras.layers.MaxPooling2D((2,2),name='pool'),\n",
    "    # 합성곱으로 인해서 줄어든 이미지를 다시 맥스풀링 레이어를 통해서 더 축소\n",
    "    # 28,28 -> 합성곱 -> 26,26 -> 풀링 -> 13,13\n",
    "    tf.keras.layers.Flatten(),\n",
    "    tf.keras.layers.Dense(10, activation='softmax'),\n",
    "])"
   ]
  },
  {
   "cell_type": "code",
   "execution_count": 16,
   "id": "d732fb36",
   "metadata": {},
   "outputs": [
    {
     "name": "stdout",
     "output_type": "stream",
     "text": [
      "Model: \"sequential\"\n",
      "_________________________________________________________________\n",
      "Layer (type)                 Output Shape              Param #   \n",
      "=================================================================\n",
      "conv (Conv2D)                (None, 26, 26, 32)        320       \n",
      "_________________________________________________________________\n",
      "pool (MaxPooling2D)          (None, 13, 13, 32)        0         \n",
      "_________________________________________________________________\n",
      "flatten (Flatten)            (None, 5408)              0         \n",
      "_________________________________________________________________\n",
      "dense (Dense)                (None, 10)                54090     \n",
      "=================================================================\n",
      "Total params: 54,410\n",
      "Trainable params: 54,410\n",
      "Non-trainable params: 0\n",
      "_________________________________________________________________\n"
     ]
    }
   ],
   "source": [
    "model.summary()\n"
   ]
  },
  {
   "cell_type": "code",
   "execution_count": 18,
   "id": "f7550908",
   "metadata": {},
   "outputs": [
    {
     "name": "stdout",
     "output_type": "stream",
     "text": [
      "Epoch 1/10\n",
      "1875/1875 [==============================] - 13s 7ms/step - loss: 0.2211 - accuracy: 0.9357 - val_loss: 0.0914 - val_accuracy: 0.9729\n",
      "Epoch 2/10\n",
      "1875/1875 [==============================] - 14s 7ms/step - loss: 0.0822 - accuracy: 0.9761 - val_loss: 0.0688 - val_accuracy: 0.9788\n",
      "Epoch 3/10\n",
      "1875/1875 [==============================] - 13s 7ms/step - loss: 0.0609 - accuracy: 0.9822 - val_loss: 0.0613 - val_accuracy: 0.9812\n",
      "Epoch 4/10\n",
      "1875/1875 [==============================] - 15s 8ms/step - loss: 0.0502 - accuracy: 0.9849 - val_loss: 0.0520 - val_accuracy: 0.9834\n",
      "Epoch 5/10\n",
      "1875/1875 [==============================] - 18s 9ms/step - loss: 0.0416 - accuracy: 0.9876 - val_loss: 0.0560 - val_accuracy: 0.9834\n",
      "Epoch 6/10\n",
      "1875/1875 [==============================] - 15s 8ms/step - loss: 0.0361 - accuracy: 0.9891 - val_loss: 0.0562 - val_accuracy: 0.9835\n",
      "Epoch 7/10\n",
      "1875/1875 [==============================] - 14s 7ms/step - loss: 0.0310 - accuracy: 0.9908 - val_loss: 0.0530 - val_accuracy: 0.9836\n",
      "Epoch 8/10\n",
      "1875/1875 [==============================] - 13s 7ms/step - loss: 0.0262 - accuracy: 0.9920 - val_loss: 0.0537 - val_accuracy: 0.9824\n",
      "Epoch 9/10\n",
      "1875/1875 [==============================] - 12s 7ms/step - loss: 0.0229 - accuracy: 0.9931 - val_loss: 0.0608 - val_accuracy: 0.9828\n",
      "Epoch 10/10\n",
      "1875/1875 [==============================] - 12s 6ms/step - loss: 0.0196 - accuracy: 0.9938 - val_loss: 0.0544 - val_accuracy: 0.9834\n"
     ]
    }
   ],
   "source": [
    "# 모델 컴파일\n",
    "\n",
    "model.compile(optimizer='adam',loss='sparse_categorical_crossentropy',metrics=['accuracy'])\n",
    "\n",
    "# 모델 훈련\n",
    "\n",
    "history = model.fit(x_train_in,y_train,validation_data=(x_valid_in,y_valid),epochs=10)\n",
    "# Epoch 분석 시 Epoch 4/10 이후로는 훈련 셋에 대해서는 정확도가 계속 올라가는 반면, 검증 셋에 대해서는 정확도가 더 높아지지 않는다. \n",
    "# -> 과대 적합"
   ]
  },
  {
   "cell_type": "code",
   "execution_count": 19,
   "id": "549ce79b",
   "metadata": {},
   "outputs": [
    {
     "name": "stdout",
     "output_type": "stream",
     "text": [
      "313/313 [==============================] - 1s 2ms/step - loss: 0.0544 - accuracy: 0.9834\n"
     ]
    },
    {
     "data": {
      "text/plain": [
       "[0.05442177876830101, 0.9833999872207642]"
      ]
     },
     "execution_count": 19,
     "metadata": {},
     "output_type": "execute_result"
    }
   ],
   "source": [
    "model.evaluate(x_valid_in, y_valid)\n",
    "# Loss(대입 결과와 실제 경과와의 차이)는 0.05, 정확도는 98%를 나타낸다."
   ]
  },
  {
   "cell_type": "code",
   "execution_count": 23,
   "id": "3d8af5c8",
   "metadata": {},
   "outputs": [
    {
     "data": {
      "image/png": "[encoded data removed]",
      "text/plain": [
       "<Figure size 864x288 with 2 Axes>"
      ]
     },
     "metadata": {
      "needs_background": "light"
     },
     "output_type": "display_data"
    }
   ],
   "source": [
    "def plot_loss_acc(history, epoch): # Loss와 정확도를 출력하는 함수 정의\n",
    "    \n",
    "    loss,val_loss = history.history['loss'], history.history['val_loss']\n",
    "    acc, val_acc = history.history['accuracy'], history.history['val_accuracy']\n",
    "    # loss 손실값과, acc 정확도를 불러옴\n",
    "    \n",
    "    fig, axes = plt.subplots(1,2,figsize=(12,4))\n",
    "    \n",
    "    axes[0].plot(range(1,epoch+1),loss,label='Training')\n",
    "    axes[0].plot(range(1,epoch+1),val_loss,label='Validation')\n",
    "    axes[0].legend(loc='best')\n",
    "    axes[0].set_title(\"Loss\")\n",
    "    \n",
    "    axes[1].plot(range(1,epoch+1),acc,label='Training')\n",
    "    axes[1].plot(range(1,epoch+1),val_acc,label='Validation')\n",
    "    axes[1].legend(loc='best')\n",
    "    axes[1].set_title(\"Accuracy\")\n",
    "    \n",
    "    plt.show()\n",
    "\n",
    "plot_loss_acc(history,10)"
   ]
  },
  {
   "cell_type": "code",
   "execution_count": null,
   "id": "49fc283c",
   "metadata": {},
   "outputs": [],
   "source": []
  }
 ],
 "metadata": {
  "kernelspec": {
   "display_name": "Python 3",
   "language": "python",
   "name": "python3"
  },
  "language_info": {
   "codemirror_mode": {
    "name": "ipython",
    "version": 3
   },
   "file_extension": ".py",
   "mimetype": "text/x-python",
   "name": "python",
   "nbconvert_exporter": "python",
   "pygments_lexer": "ipython3",
   "version": "3.8.8"
  }
 },
 "nbformat": 4,
 "nbformat_minor": 5
}
