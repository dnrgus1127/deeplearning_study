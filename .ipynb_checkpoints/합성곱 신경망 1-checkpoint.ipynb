{
 "cells": [
  {
   "cell_type": "code",
   "execution_count": 1,
   "id": "efaa84cf",
   "metadata": {},
   "outputs": [],
   "source": [
    "import tensorflow as tf"
   ]
  },
  {
   "cell_type": "code",
   "execution_count": 2,
   "id": "fcc64a4b",
   "metadata": {},
   "outputs": [
    {
     "name": "stdout",
     "output_type": "stream",
     "text": [
      "(60000, 28, 28) (60000,)\n",
      "(10000, 28, 28) (10000,)\n"
     ]
    }
   ],
   "source": [
    "mnist = tf.keras.datasets.mnist #손글씨 이미지 데이터 로드\n",
    "(x_train,y_train),(x_valid,y_valid) = mnist.load_data()\n",
    "\n",
    "print(x_train.shape,y_train.shape) \n",
    "print(x_valid.shape,y_valid.shape)\n"
   ]
  },
  {
   "cell_type": "code",
   "execution_count": 3,
   "id": "79a65db2",
   "metadata": {},
   "outputs": [
    {
     "data": {
      "image/png": "[encoded data removed]",
      "text/plain": [
       "<Figure size 360x360 with 1 Axes>"
      ]
     },
     "metadata": {
      "needs_background": "light"
     },
     "output_type": "display_data"
    }
   ],
   "source": [
    "import matplotlib.pylab as plt\n",
    "\n",
    "def plot_image(data, idx):\n",
    "    plt.figure(figsize=(5,5))\n",
    "    plt.imshow(data[idx], cmap = \"gray\")\n",
    "    plt.axis(\"off\")\n",
    "    plt.show()\n",
    "    \n",
    "    \n",
    "plot_image(x_train,0)"
   ]
  },
  {
   "cell_type": "code",
   "execution_count": 4,
   "id": "de33ceff",
   "metadata": {},
   "outputs": [
    {
     "name": "stdout",
     "output_type": "stream",
     "text": [
      "0 255\n"
     ]
    }
   ],
   "source": [
    "print(x_train.min(),x_train.max())"
   ]
  },
  {
   "cell_type": "code",
   "execution_count": 5,
   "id": "3ef95297",
   "metadata": {},
   "outputs": [],
   "source": [
    "x_train = x_train/255.0  # 안정적인 학습을 위해서 입력 이미지 픽셀 값을 정규화\n",
    "x_valid = x_valid/255.0"
   ]
  },
  {
   "cell_type": "code",
   "execution_count": 6,
   "id": "2582078b",
   "metadata": {},
   "outputs": [
    {
     "name": "stdout",
     "output_type": "stream",
     "text": [
      "(60000, 28, 28, 1)\n"
     ]
    }
   ],
   "source": [
    "x_train_in = x_train[..., tf.newaxis] # 흑백 이미지에 색상 채널을 하나 추가\n",
    "x_valid_in = x_valid[..., tf.newaxis]\n",
    "\n",
    "print(x_train_in.shape)"
   ]
  },
  {
   "cell_type": "code",
   "execution_count": 7,
   "id": "be45fa39",
   "metadata": {},
   "outputs": [],
   "source": [
    "## 합성곱 레이어 하나와 풀링 레이어를 하나 추가한다.\n",
    "## 합성곱은 Conv2D 레이어, 커널은(3,3), 활성화 함수는 ReLU 함수 "
   ]
  },
  {
   "cell_type": "code",
   "execution_count": 8,
   "id": "82662eab",
   "metadata": {},
   "outputs": [],
   "source": [
    "model = tf.keras.Sequential([\n",
    "    tf.keras.layers.Conv2D(32,(3,3),activation='relu', input_shape=(28,28,1), name ='conv'),\n",
    "    # Conv2D = 기본적인 합성곱 함수\n",
    "    tf.keras.layers.MaxPooling2D((2,2),name='pool'),\n",
    "    # 합성곱으로 인해서 줄어든 이미지를 다시 맥스풀링 레이어를 통해서 더 축소\n",
    "    # 28,28 -> 합성곱 -> 26,26 -> 풀링 -> 13,13\n",
    "    tf.keras.layers.Flatten(),\n",
    "    tf.keras.layers.Dense(10, activation='softmax'),\n",
    "])"
   ]
  },
  {
   "cell_type": "code",
   "execution_count": 9,
   "id": "d732fb36",
   "metadata": {},
   "outputs": [
    {
     "name": "stdout",
     "output_type": "stream",
     "text": [
      "Model: \"sequential\"\n",
      "_________________________________________________________________\n",
      "Layer (type)                 Output Shape              Param #   \n",
      "=================================================================\n",
      "conv (Conv2D)                (None, 26, 26, 32)        320       \n",
      "_________________________________________________________________\n",
      "pool (MaxPooling2D)          (None, 13, 13, 32)        0         \n",
      "_________________________________________________________________\n",
      "flatten (Flatten)            (None, 5408)              0         \n",
      "_________________________________________________________________\n",
      "dense (Dense)                (None, 10)                54090     \n",
      "=================================================================\n",
      "Total params: 54,410\n",
      "Trainable params: 54,410\n",
      "Non-trainable params: 0\n",
      "_________________________________________________________________\n"
     ]
    }
   ],
   "source": [
    "model.summary()\n"
   ]
  },
  {
   "cell_type": "code",
   "execution_count": 10,
   "id": "f7550908",
   "metadata": {},
   "outputs": [
    {
     "name": "stdout",
     "output_type": "stream",
     "text": [
      "Epoch 1/10\n",
      "1875/1875 [==============================] - 10s 5ms/step - loss: 0.2059 - accuracy: 0.9425 - val_loss: 0.0869 - val_accuracy: 0.9724\n",
      "Epoch 2/10\n",
      "1875/1875 [==============================] - 10s 5ms/step - loss: 0.0792 - accuracy: 0.9770 - val_loss: 0.0676 - val_accuracy: 0.9774\n",
      "Epoch 3/10\n",
      "1875/1875 [==============================] - 10s 5ms/step - loss: 0.0617 - accuracy: 0.9819 - val_loss: 0.0629 - val_accuracy: 0.9786\n",
      "Epoch 4/10\n",
      "1875/1875 [==============================] - 10s 5ms/step - loss: 0.0502 - accuracy: 0.9855 - val_loss: 0.0571 - val_accuracy: 0.9820\n",
      "Epoch 5/10\n",
      "1875/1875 [==============================] - 10s 5ms/step - loss: 0.0438 - accuracy: 0.9872 - val_loss: 0.0545 - val_accuracy: 0.9830\n",
      "Epoch 6/10\n",
      "1875/1875 [==============================] - 10s 5ms/step - loss: 0.0367 - accuracy: 0.9890 - val_loss: 0.0523 - val_accuracy: 0.9817\n",
      "Epoch 7/10\n",
      "1875/1875 [==============================] - 10s 5ms/step - loss: 0.0319 - accuracy: 0.9903 - val_loss: 0.0572 - val_accuracy: 0.9819\n",
      "Epoch 8/10\n",
      "1875/1875 [==============================] - 10s 5ms/step - loss: 0.0275 - accuracy: 0.9916 - val_loss: 0.0522 - val_accuracy: 0.9836\n",
      "Epoch 9/10\n",
      "1875/1875 [==============================] - 10s 5ms/step - loss: 0.0232 - accuracy: 0.9934 - val_loss: 0.0629 - val_accuracy: 0.9808\n",
      "Epoch 10/10\n",
      "1875/1875 [==============================] - 10s 5ms/step - loss: 0.0204 - accuracy: 0.9939 - val_loss: 0.0562 - val_accuracy: 0.9826\n"
     ]
    }
   ],
   "source": [
    "# 모델 컴파일\n",
    "\n",
    "model.compile(optimizer='adam',loss='sparse_categorical_crossentropy',metrics=['accuracy'])\n",
    "\n",
    "# 모델 훈련\n",
    "\n",
    "history = model.fit(x_train_in,y_train,validation_data=(x_valid_in,y_valid),epochs=10)\n",
    "# Epoch 분석 시 Epoch 4/10 이후로는 훈련 셋에 대해서는 정확도가 계속 올라가는 반면, 검증 셋에 대해서는 정확도가 더 높아지지 않는다. \n",
    "# -> 과대 적합"
   ]
  },
  {
   "cell_type": "code",
   "execution_count": 11,
   "id": "549ce79b",
   "metadata": {},
   "outputs": [
    {
     "name": "stdout",
     "output_type": "stream",
     "text": [
      "313/313 [==============================] - 1s 2ms/step - loss: 0.0562 - accuracy: 0.9826\n"
     ]
    },
    {
     "data": {
      "text/plain": [
       "[0.056228406727313995, 0.9825999736785889]"
      ]
     },
     "execution_count": 11,
     "metadata": {},
     "output_type": "execute_result"
    }
   ],
   "source": [
    "model.evaluate(x_valid_in, y_valid)\n",
    "# Loss(대입 결과와 실제 경과와의 차이)는 0.05, 정확도는 98%를 나타낸다."
   ]
  },
  {
   "cell_type": "code",
   "execution_count": 12,
   "id": "3d8af5c8",
   "metadata": {},
   "outputs": [
    {
     "data": {
      "image/png": "[encoded data removed]",
      "text/plain": [
       "<Figure size 864x288 with 2 Axes>"
      ]
     },
     "metadata": {
      "needs_background": "light"
     },
     "output_type": "display_data"
    }
   ],
   "source": [
    "def plot_loss_acc(history, epoch): # Loss와 정확도를 출력하는 함수 정의\n",
    "    \n",
    "    loss,val_loss = history.history['loss'], history.history['val_loss']\n",
    "    acc, val_acc = history.history['accuracy'], history.history['val_accuracy']\n",
    "    # loss 손실값과, acc 정확도를 불러옴\n",
    "    \n",
    "    fig, axes = plt.subplots(1,2,figsize=(12,4))\n",
    "    \n",
    "    axes[0].plot(range(1,epoch+1),loss,label='Training')\n",
    "    axes[0].plot(range(1,epoch+1),val_loss,label='Validation')\n",
    "    axes[0].legend(loc='best')\n",
    "    axes[0].set_title(\"Loss\")\n",
    "    \n",
    "    axes[1].plot(range(1,epoch+1),acc,label='Training')\n",
    "    axes[1].plot(range(1,epoch+1),val_acc,label='Validation')\n",
    "    axes[1].legend(loc='best')\n",
    "    axes[1].set_title(\"Accuracy\")\n",
    "    \n",
    "    plt.show()\n",
    "\n",
    "plot_loss_acc(history,10)"
   ]
  },
  {
   "cell_type": "code",
   "execution_count": 13,
   "id": "49fc283c",
   "metadata": {},
   "outputs": [
    {
     "name": "stdout",
     "output_type": "stream",
     "text": [
      "Model: \"sequential\"\n",
      "_________________________________________________________________\n",
      "Layer (type)                 Output Shape              Param #   \n",
      "=================================================================\n",
      "conv (Conv2D)                (None, 26, 26, 32)        320       \n",
      "_________________________________________________________________\n",
      "pool (MaxPooling2D)          (None, 13, 13, 32)        0         \n",
      "_________________________________________________________________\n",
      "flatten (Flatten)            (None, 5408)              0         \n",
      "_________________________________________________________________\n",
      "dense (Dense)                (None, 10)                54090     \n",
      "=================================================================\n",
      "Total params: 54,410\n",
      "Trainable params: 54,410\n",
      "Non-trainable params: 0\n",
      "_________________________________________________________________\n"
     ]
    }
   ],
   "source": [
    "model.summary()"
   ]
  },
  {
   "cell_type": "code",
   "execution_count": 14,
   "id": "6821d8d8",
   "metadata": {},
   "outputs": [
    {
     "data": {
      "text/plain": [
       "<tf.Tensor 'conv_input:0' shape=(None, 28, 28, 1) dtype=float32>"
      ]
     },
     "execution_count": 14,
     "metadata": {},
     "output_type": "execute_result"
    }
   ],
   "source": [
    "model.input"
   ]
  },
  {
   "cell_type": "code",
   "execution_count": 15,
   "id": "ca07e667",
   "metadata": {},
   "outputs": [
    {
     "data": {
      "text/plain": [
       "<tf.Tensor 'dense/Softmax:0' shape=(None, 10) dtype=float32>"
      ]
     },
     "execution_count": 15,
     "metadata": {},
     "output_type": "execute_result"
    }
   ],
   "source": [
    "model.output"
   ]
  },
  {
   "cell_type": "code",
   "execution_count": 16,
   "id": "9989f568",
   "metadata": {},
   "outputs": [
    {
     "data": {
      "text/plain": [
       "[<tensorflow.python.keras.layers.convolutional.Conv2D at 0x20b86317910>,\n",
       " <tensorflow.python.keras.layers.pooling.MaxPooling2D at 0x20b863178e0>,\n",
       " <tensorflow.python.keras.layers.core.Flatten at 0x20b86344d30>,\n",
       " <tensorflow.python.keras.layers.core.Dense at 0x20b80db1670>]"
      ]
     },
     "execution_count": 16,
     "metadata": {},
     "output_type": "execute_result"
    }
   ],
   "source": [
    "model.layers"
   ]
  },
  {
   "cell_type": "code",
   "execution_count": 18,
   "id": "5e9f7350",
   "metadata": {},
   "outputs": [
    {
     "data": {
      "text/plain": [
       "<tensorflow.python.keras.layers.convolutional.Conv2D at 0x20b86317910>"
      ]
     },
     "execution_count": 18,
     "metadata": {},
     "output_type": "execute_result"
    }
   ],
   "source": [
    "model.layers[0]"
   ]
  },
  {
   "cell_type": "code",
   "execution_count": 19,
   "id": "67416292",
   "metadata": {},
   "outputs": [
    {
     "data": {
      "text/plain": [
       "<tf.Tensor 'conv_input:0' shape=(None, 28, 28, 1) dtype=float32>"
      ]
     },
     "execution_count": 19,
     "metadata": {},
     "output_type": "execute_result"
    }
   ],
   "source": [
    "model.layers[0].input"
   ]
  },
  {
   "cell_type": "code",
   "execution_count": 20,
   "id": "927d306e",
   "metadata": {},
   "outputs": [
    {
     "data": {
      "text/plain": [
       "<tf.Tensor 'conv/Relu:0' shape=(None, 26, 26, 32) dtype=float32>"
      ]
     },
     "execution_count": 20,
     "metadata": {},
     "output_type": "execute_result"
    }
   ],
   "source": [
    "model.layers[0].output"
   ]
  },
  {
   "cell_type": "code",
   "execution_count": 21,
   "id": "d1b65c08",
   "metadata": {},
   "outputs": [
    {
     "data": {
      "text/plain": [
       "[<tf.Variable 'conv/kernel:0' shape=(3, 3, 1, 32) dtype=float32, numpy=\n",
       " array([[[[-0.41498077, -0.2959478 ,  0.2524666 , -1.0665187 ,\n",
       "            0.1518992 ,  0.35818955, -0.9707473 , -0.01314953,\n",
       "           -0.05858523, -0.29916698,  0.4353541 , -0.71171874,\n",
       "            0.18207152,  0.20193444, -0.41722062, -0.24927321,\n",
       "           -0.2871264 , -1.1572093 , -0.29007438, -0.49857634,\n",
       "           -1.0177348 ,  0.40533432,  0.39223117, -1.2677834 ,\n",
       "           -0.25646976, -0.27257693,  0.41416627,  0.3539477 ,\n",
       "           -0.5331334 ,  0.04237977, -0.5856285 ,  0.10574461]],\n",
       " \n",
       "         [[-0.05841671, -0.05201768,  0.3039021 , -0.5522797 ,\n",
       "            0.0232189 , -0.35361823,  0.05278256,  0.5625416 ,\n",
       "           -0.32619515,  0.29945856,  0.0411757 , -0.6683994 ,\n",
       "            0.57904327,  0.47048604, -0.14143914,  0.24204667,\n",
       "           -0.6961352 , -1.0188304 ,  0.04327754,  0.11199189,\n",
       "           -0.40839905,  0.06485842,  0.20377362, -0.47619873,\n",
       "            0.34287578,  0.0034831 ,  0.05832702, -0.09181215,\n",
       "           -0.0537121 ,  0.40333396,  0.04109991, -0.5996281 ]],\n",
       " \n",
       "         [[ 0.13832098,  0.19268589, -0.43221188, -0.8185057 ,\n",
       "           -0.1109801 , -0.42851   ,  0.6388831 ,  0.6563777 ,\n",
       "           -0.00574033,  0.24756278, -0.22970784, -0.5263691 ,\n",
       "            0.48198506, -0.6711837 ,  0.28348324, -0.03317873,\n",
       "           -0.4686114 , -0.56289756,  0.2902964 ,  0.13327922,\n",
       "           -0.48100933, -0.13241498, -0.4223265 ,  0.10643865,\n",
       "           -0.07387721, -0.40073273, -0.623829  , -0.65208423,\n",
       "            0.21338382,  0.58881915,  0.14722483, -0.8109901 ]]],\n",
       " \n",
       " \n",
       "        [[[ 0.14118877, -0.06954744, -0.3505046 , -0.07240044,\n",
       "            0.21181172,  0.2789252 , -0.7239535 , -0.77464134,\n",
       "           -0.37320536,  0.26666296, -0.01015241, -0.5727027 ,\n",
       "            0.10326908,  0.20471177, -0.3377786 ,  0.15575127,\n",
       "            0.33354637, -0.88940877,  0.3218731 , -0.17689948,\n",
       "            0.05363879, -0.20460916, -0.13096325, -0.6762657 ,\n",
       "           -0.08078361,  0.21850841,  0.5355744 ,  0.3825864 ,\n",
       "           -0.1045998 , -0.08327933,  0.04316593,  0.6912516 ]],\n",
       " \n",
       "         [[ 0.40487653,  0.0553547 ,  0.35463122, -0.1467034 ,\n",
       "            0.47041577,  0.19355193,  0.08332782, -0.05829495,\n",
       "            0.17797145,  0.12741798, -0.05405825,  0.06092918,\n",
       "            0.26079795,  0.20513168,  0.23598953,  0.30826232,\n",
       "            0.17888339,  0.3652226 , -0.06077504,  0.22074598,\n",
       "           -0.14492874, -0.27110654,  0.3146154 , -0.01996342,\n",
       "           -0.07839836,  0.32586476,  0.09020007,  0.1870102 ,\n",
       "            0.46151042,  0.40892237,  0.55464786, -0.0478402 ]],\n",
       " \n",
       "         [[ 0.16088216,  0.12522087,  0.17177   , -0.3685378 ,\n",
       "            0.4723156 , -0.10011906,  0.57028586,  0.4592086 ,\n",
       "            0.3569377 , -0.49201307, -0.01787126,  0.08938567,\n",
       "            0.07756156, -0.6261833 ,  0.23467237, -0.4966753 ,\n",
       "            0.33139247,  0.34643728, -0.03477775,  0.08109757,\n",
       "           -1.2133224 , -0.05808093,  0.00280546,  0.54932696,\n",
       "            0.00274457,  0.3140036 , -0.7909972 , -0.41038373,\n",
       "            0.10044505,  0.29770777, -0.17921832, -0.5575112 ]]],\n",
       " \n",
       " \n",
       "        [[[ 0.1958086 ,  0.2825202 , -0.36567906,  0.5827186 ,\n",
       "           -0.38306913, -0.14530796, -0.50087804, -1.1031276 ,\n",
       "            0.23401284,  0.12157797, -0.09480006,  0.41036865,\n",
       "           -0.943233  , -0.04716722,  0.2924042 , -0.38417065,\n",
       "            0.16298738, -0.2252234 ,  0.212032  ,  0.25233442,\n",
       "            0.8014561 ,  0.03864291, -0.4462571 , -1.0366577 ,\n",
       "            0.08035071, -0.07755765,  0.5288754 ,  0.00382964,\n",
       "            0.20577945, -1.0446157 ,  0.06294916,  0.5656695 ]],\n",
       " \n",
       "         [[-0.16432329, -0.0444909 ,  0.01654314,  0.6045684 ,\n",
       "           -0.53807324,  0.37310818,  0.18415193, -0.7547684 ,\n",
       "            0.11966719, -0.0915297 ,  0.20402944,  0.5166186 ,\n",
       "           -0.91280615,  0.17743304,  0.3073462 ,  0.19036096,\n",
       "            0.42542216,  0.49253327, -0.4583605 ,  0.15609331,\n",
       "            0.66760325,  0.18484667,  0.15369783,  0.13861316,\n",
       "            0.02536332, -0.16989605, -0.09656204,  0.34545386,\n",
       "            0.15802632, -0.9250998 ,  0.18608093,  0.3920254 ]],\n",
       " \n",
       "         [[-0.4487326 , -0.03569961,  0.23399296, -0.00402004,\n",
       "           -0.02709449,  0.19219865,  0.15487674, -0.04760125,\n",
       "           -0.26079208, -0.1293175 ,  0.33511057,  0.33521405,\n",
       "           -1.0642581 , -0.75548625, -0.19574338,  0.10447572,\n",
       "            0.01931287,  0.38392273,  0.25359356, -0.3691598 ,\n",
       "           -0.21192652,  0.33001113,  0.34378657,  0.5749572 ,\n",
       "            0.20536974, -0.29439884, -0.5146302 ,  0.2585439 ,\n",
       "           -0.61647123, -0.862451  , -0.7303977 , -0.07360876]]]],\n",
       "       dtype=float32)>,\n",
       " <tf.Variable 'conv/bias:0' shape=(32,) dtype=float32, numpy=\n",
       " array([-0.20221852, -0.2994725 , -0.23400815,  0.03539613, -0.26657516,\n",
       "        -0.42772692, -0.06270411, -0.02106139, -0.16248554, -0.23598993,\n",
       "        -0.42321223, -0.03375695, -0.0263381 , -0.01420507, -0.38084275,\n",
       "        -0.05030024, -0.10930524,  0.11844019, -0.21058607, -0.24484816,\n",
       "         0.06346197, -0.28041044, -0.33379138,  0.05035226, -0.23652768,\n",
       "         0.00344673, -0.10000239, -0.46492264, -0.18678974, -0.04347419,\n",
       "        -0.0782943 , -0.10307977], dtype=float32)>]"
      ]
     },
     "execution_count": 21,
     "metadata": {},
     "output_type": "execute_result"
    }
   ],
   "source": [
    "model.layers[0].weights\n",
    "# 해당 레이어의 가중치 행렬"
   ]
  },
  {
   "cell_type": "code",
   "execution_count": 22,
   "id": "d3285c8d",
   "metadata": {},
   "outputs": [],
   "source": [
    "#첫번째 array는 커널의 가중치 행렬\n",
    "#두번째 array는 커널의 상수항(bias) 행렬"
   ]
  },
  {
   "cell_type": "code",
   "execution_count": 23,
   "id": "c0cefc49",
   "metadata": {},
   "outputs": [
    {
     "data": {
      "text/plain": [
       "<tf.Variable 'conv/kernel:0' shape=(3, 3, 1, 32) dtype=float32, numpy=\n",
       "array([[[[-0.41498077, -0.2959478 ,  0.2524666 , -1.0665187 ,\n",
       "           0.1518992 ,  0.35818955, -0.9707473 , -0.01314953,\n",
       "          -0.05858523, -0.29916698,  0.4353541 , -0.71171874,\n",
       "           0.18207152,  0.20193444, -0.41722062, -0.24927321,\n",
       "          -0.2871264 , -1.1572093 , -0.29007438, -0.49857634,\n",
       "          -1.0177348 ,  0.40533432,  0.39223117, -1.2677834 ,\n",
       "          -0.25646976, -0.27257693,  0.41416627,  0.3539477 ,\n",
       "          -0.5331334 ,  0.04237977, -0.5856285 ,  0.10574461]],\n",
       "\n",
       "        [[-0.05841671, -0.05201768,  0.3039021 , -0.5522797 ,\n",
       "           0.0232189 , -0.35361823,  0.05278256,  0.5625416 ,\n",
       "          -0.32619515,  0.29945856,  0.0411757 , -0.6683994 ,\n",
       "           0.57904327,  0.47048604, -0.14143914,  0.24204667,\n",
       "          -0.6961352 , -1.0188304 ,  0.04327754,  0.11199189,\n",
       "          -0.40839905,  0.06485842,  0.20377362, -0.47619873,\n",
       "           0.34287578,  0.0034831 ,  0.05832702, -0.09181215,\n",
       "          -0.0537121 ,  0.40333396,  0.04109991, -0.5996281 ]],\n",
       "\n",
       "        [[ 0.13832098,  0.19268589, -0.43221188, -0.8185057 ,\n",
       "          -0.1109801 , -0.42851   ,  0.6388831 ,  0.6563777 ,\n",
       "          -0.00574033,  0.24756278, -0.22970784, -0.5263691 ,\n",
       "           0.48198506, -0.6711837 ,  0.28348324, -0.03317873,\n",
       "          -0.4686114 , -0.56289756,  0.2902964 ,  0.13327922,\n",
       "          -0.48100933, -0.13241498, -0.4223265 ,  0.10643865,\n",
       "          -0.07387721, -0.40073273, -0.623829  , -0.65208423,\n",
       "           0.21338382,  0.58881915,  0.14722483, -0.8109901 ]]],\n",
       "\n",
       "\n",
       "       [[[ 0.14118877, -0.06954744, -0.3505046 , -0.07240044,\n",
       "           0.21181172,  0.2789252 , -0.7239535 , -0.77464134,\n",
       "          -0.37320536,  0.26666296, -0.01015241, -0.5727027 ,\n",
       "           0.10326908,  0.20471177, -0.3377786 ,  0.15575127,\n",
       "           0.33354637, -0.88940877,  0.3218731 , -0.17689948,\n",
       "           0.05363879, -0.20460916, -0.13096325, -0.6762657 ,\n",
       "          -0.08078361,  0.21850841,  0.5355744 ,  0.3825864 ,\n",
       "          -0.1045998 , -0.08327933,  0.04316593,  0.6912516 ]],\n",
       "\n",
       "        [[ 0.40487653,  0.0553547 ,  0.35463122, -0.1467034 ,\n",
       "           0.47041577,  0.19355193,  0.08332782, -0.05829495,\n",
       "           0.17797145,  0.12741798, -0.05405825,  0.06092918,\n",
       "           0.26079795,  0.20513168,  0.23598953,  0.30826232,\n",
       "           0.17888339,  0.3652226 , -0.06077504,  0.22074598,\n",
       "          -0.14492874, -0.27110654,  0.3146154 , -0.01996342,\n",
       "          -0.07839836,  0.32586476,  0.09020007,  0.1870102 ,\n",
       "           0.46151042,  0.40892237,  0.55464786, -0.0478402 ]],\n",
       "\n",
       "        [[ 0.16088216,  0.12522087,  0.17177   , -0.3685378 ,\n",
       "           0.4723156 , -0.10011906,  0.57028586,  0.4592086 ,\n",
       "           0.3569377 , -0.49201307, -0.01787126,  0.08938567,\n",
       "           0.07756156, -0.6261833 ,  0.23467237, -0.4966753 ,\n",
       "           0.33139247,  0.34643728, -0.03477775,  0.08109757,\n",
       "          -1.2133224 , -0.05808093,  0.00280546,  0.54932696,\n",
       "           0.00274457,  0.3140036 , -0.7909972 , -0.41038373,\n",
       "           0.10044505,  0.29770777, -0.17921832, -0.5575112 ]]],\n",
       "\n",
       "\n",
       "       [[[ 0.1958086 ,  0.2825202 , -0.36567906,  0.5827186 ,\n",
       "          -0.38306913, -0.14530796, -0.50087804, -1.1031276 ,\n",
       "           0.23401284,  0.12157797, -0.09480006,  0.41036865,\n",
       "          -0.943233  , -0.04716722,  0.2924042 , -0.38417065,\n",
       "           0.16298738, -0.2252234 ,  0.212032  ,  0.25233442,\n",
       "           0.8014561 ,  0.03864291, -0.4462571 , -1.0366577 ,\n",
       "           0.08035071, -0.07755765,  0.5288754 ,  0.00382964,\n",
       "           0.20577945, -1.0446157 ,  0.06294916,  0.5656695 ]],\n",
       "\n",
       "        [[-0.16432329, -0.0444909 ,  0.01654314,  0.6045684 ,\n",
       "          -0.53807324,  0.37310818,  0.18415193, -0.7547684 ,\n",
       "           0.11966719, -0.0915297 ,  0.20402944,  0.5166186 ,\n",
       "          -0.91280615,  0.17743304,  0.3073462 ,  0.19036096,\n",
       "           0.42542216,  0.49253327, -0.4583605 ,  0.15609331,\n",
       "           0.66760325,  0.18484667,  0.15369783,  0.13861316,\n",
       "           0.02536332, -0.16989605, -0.09656204,  0.34545386,\n",
       "           0.15802632, -0.9250998 ,  0.18608093,  0.3920254 ]],\n",
       "\n",
       "        [[-0.4487326 , -0.03569961,  0.23399296, -0.00402004,\n",
       "          -0.02709449,  0.19219865,  0.15487674, -0.04760125,\n",
       "          -0.26079208, -0.1293175 ,  0.33511057,  0.33521405,\n",
       "          -1.0642581 , -0.75548625, -0.19574338,  0.10447572,\n",
       "           0.01931287,  0.38392273,  0.25359356, -0.3691598 ,\n",
       "          -0.21192652,  0.33001113,  0.34378657,  0.5749572 ,\n",
       "           0.20536974, -0.29439884, -0.5146302 ,  0.2585439 ,\n",
       "          -0.61647123, -0.862451  , -0.7303977 , -0.07360876]]]],\n",
       "      dtype=float32)>"
      ]
     },
     "execution_count": 23,
     "metadata": {},
     "output_type": "execute_result"
    }
   ],
   "source": [
    "model.layers[0].kernel"
   ]
  },
  {
   "cell_type": "code",
   "execution_count": 25,
   "id": "1e13ef54",
   "metadata": {},
   "outputs": [
    {
     "data": {
      "text/plain": [
       "<tensorflow.python.keras.layers.convolutional.Conv2D at 0x20b86317910>"
      ]
     },
     "execution_count": 25,
     "metadata": {},
     "output_type": "execute_result"
    }
   ],
   "source": [
    "model.get_layer('conv')"
   ]
  },
  {
   "cell_type": "code",
   "execution_count": 28,
   "id": "9035a7d3",
   "metadata": {},
   "outputs": [
    {
     "data": {
      "text/plain": [
       "2"
      ]
     },
     "execution_count": 28,
     "metadata": {},
     "output_type": "execute_result"
    }
   ],
   "source": [
    "# 이전 모델에서 conv2d레이어와 맥스풀링 레이어의 출력을 최종 출력으로 갖는 activator 모델\n",
    "\n",
    "\n",
    "# 인풋은 모델의 인풋(28,28,1) 아웃풋은 model 모델의 2번째 레이어까지 \n",
    "activator = tf.keras.Model(inputs = model.input, outputs = [layer.output for layer in model.layers[:2]])\n",
    "\n",
    "\n",
    "# x_train_in의 0번째 인덱스 값을 모델에 입력하여 출력을 얻음\n",
    "activations = activator.predict(x_train_in[0][tf.newaxis,...])\n",
    "\n",
    "\n",
    "# 결과로 두개의 출력을 갖는다\n",
    "len(activations) "
   ]
  },
  {
   "cell_type": "code",
   "execution_count": 38,
   "id": "34a038de",
   "metadata": {},
   "outputs": [
    {
     "data": {
      "text/plain": [
       "(1, 26, 26, 32)"
      ]
     },
     "execution_count": 38,
     "metadata": {},
     "output_type": "execute_result"
    }
   ],
   "source": [
    "conv_activation = activations[0]\n",
    "conv_activation.shape"
   ]
  },
  {
   "cell_type": "code",
   "execution_count": 42,
   "id": "ad5685a6",
   "metadata": {
    "scrolled": false
   },
   "outputs": [
    {
     "data": {
      "image/png": "[encoded data removed]",
      "text/plain": [
       "<Figure size 720x360 with 32 Axes>"
      ]
     },
     "metadata": {},
     "output_type": "display_data"
    }
   ],
   "source": [
    "fig, axes = plt.subplots(4,8)\n",
    "fig.set_size_inches(10,5)\n",
    "\n",
    "for i in range(32):\n",
    "    axes[i//8, i%8].matshow(conv_activation[0,:,:,i], cmap='viridis')\n",
    "    axes[i//8, i%8].set_title('kernel %s'%str(i), fontsize =10)\n",
    "    plt.setp(axes[i//8, i%8].get_xticklabels(),visible=False)\n",
    "    plt.setp(axes[i//8, i%8].get_yticklabels(),visible=False)\n",
    "    \n",
    "plt.tight_layout()\n",
    "plt.show()\n",
    "# 첫 번째 레이어를 거친 후 나오는 이미지\n",
    "# 28,28,1 -> 26,26,1 의 (3,3) 커널 합성곱"
   ]
  },
  {
   "cell_type": "code",
   "execution_count": 43,
   "id": "44360a7c",
   "metadata": {},
   "outputs": [
    {
     "name": "stdout",
     "output_type": "stream",
     "text": [
      "(1, 13, 13, 32)\n"
     ]
    }
   ],
   "source": [
    "pooling_activation = activations[1]\n",
    "print(pooling_activation.shape)"
   ]
  },
  {
   "cell_type": "code",
   "execution_count": 44,
   "id": "8579adbf",
   "metadata": {},
   "outputs": [
    {
     "data": {
      "image/png": "[encoded data removed]",
      "text/plain": [
       "<Figure size 720x360 with 32 Axes>"
      ]
     },
     "metadata": {},
     "output_type": "display_data"
    }
   ],
   "source": [
    "fig, axes = plt.subplots(4,8)\n",
    "fig.set_size_inches(10,5)\n",
    "\n",
    "for i in range(32):\n",
    "    axes[i//8, i%8].matshow(pooling_activation[0,:,:,i], cmap='viridis')\n",
    "    axes[i//8, i%8].set_title('kernel %s'%str(i), fontsize =10)\n",
    "    plt.setp(axes[i//8, i%8].get_xticklabels(),visible=False)\n",
    "    plt.setp(axes[i//8, i%8].get_yticklabels(),visible=False)\n",
    "    \n",
    "plt.tight_layout()\n",
    "plt.show()\n",
    "# 두 번째 레이어를 거친 후 나오는 이미지\n",
    "# 26,26,1 -> "
   ]
  },
  {
   "cell_type": "code",
   "execution_count": null,
   "id": "0964aecf",
   "metadata": {},
   "outputs": [],
   "source": []
  }
 ],
 "metadata": {
  "kernelspec": {
   "display_name": "Python 3",
   "language": "python",
   "name": "python3"
  },
  "language_info": {
   "codemirror_mode": {
    "name": "ipython",
    "version": 3
   },
   "file_extension": ".py",
   "mimetype": "text/x-python",
   "name": "python",
   "nbconvert_exporter": "python",
   "pygments_lexer": "ipython3",
   "version": "3.8.8"
  }
 },
 "nbformat": 4,
 "nbformat_minor": 5
}
